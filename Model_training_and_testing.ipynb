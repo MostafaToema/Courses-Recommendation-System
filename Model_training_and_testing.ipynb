{
 "cells": [
  {
   "cell_type": "markdown",
   "id": "d18cb2e6-4f0e-4329-8ba6-a2a68043d9e2",
   "metadata": {},
   "source": [
    "# Import Libraries"
   ]
  },
  {
   "cell_type": "code",
   "execution_count": 1,
   "id": "e175c2d1-9194-49cc-8aed-7fe474142f41",
   "metadata": {},
   "outputs": [],
   "source": [
    "# Pandas and Numpy\n",
    "import pandas as pd\n",
    "import numpy as np\n",
    "# Sklearn\n",
    "from sklearn.linear_model import SGDRegressor\n",
    "from sklearn.model_selection import train_test_split\n",
    "from sklearn.metrics import r2_score\n",
    "from sklearn.pipeline import Pipeline\n",
    "from sklearn.compose import ColumnTransformer\n",
    "from sklearn.preprocessing import StandardScaler\n",
    "from sklearn.preprocessing import OneHotEncoder"
   ]
  },
  {
   "cell_type": "markdown",
   "id": "07c591d9-4eb3-41ed-867c-d80df6d09139",
   "metadata": {},
   "source": [
    "# Load Dataset"
   ]
  },
  {
   "cell_type": "code",
   "execution_count": 2,
   "id": "7f4e53d3-70c2-4cf5-ac45-6726d50c81aa",
   "metadata": {},
   "outputs": [],
   "source": [
    "all_courses_df = pd.read_csv('all_courses.csv')"
   ]
  },
  {
   "cell_type": "code",
   "execution_count": 3,
   "id": "7a8a095f-6bf5-4bae-b2ab-6077008c9655",
   "metadata": {},
   "outputs": [
    {
     "name": "stdout",
     "output_type": "stream",
     "text": [
      "The shape of the training dataset is (282, 20).\n",
      "\n"
     ]
    }
   ],
   "source": [
    "print(\"The shape of the training dataset is {}.\\n\".format(all_courses_df.shape))"
   ]
  },
  {
   "cell_type": "code",
   "execution_count": 4,
   "id": "f977f58f-1556-489e-ba17-c6fdfa3708e8",
   "metadata": {},
   "outputs": [
    {
     "data": {
      "text/plain": [
       "Index(['Unnamed: 0', '_id', 'title', 'url', 'description', 'syllabus',\n",
       "       'skills', 'ratings_count', 'prerequisites', 'duration', 'category',\n",
       "       'level', 'schoolName', 'instructors', 'enrolled_students_count',\n",
       "       'avg_rating', 'num_reviews', 'price', 'source', 'Unnamed: 19'],\n",
       "      dtype='object')"
      ]
     },
     "execution_count": 4,
     "metadata": {},
     "output_type": "execute_result"
    }
   ],
   "source": [
    "all_courses_df.columns"
   ]
  },
  {
   "cell_type": "code",
   "execution_count": 5,
   "id": "383496bf-23ae-4954-8894-f02c83a35d1c",
   "metadata": {},
   "outputs": [],
   "source": [
    "all_courses_df.drop(['Unnamed: 19', 'Unnamed: 0', '_id'], axis=1, inplace=True)"
   ]
  },
  {
   "cell_type": "markdown",
   "id": "bb70de52-1f9d-4a43-bb46-3bf02568a02c",
   "metadata": {},
   "source": [
    "# EDA"
   ]
  },
  {
   "cell_type": "markdown",
   "id": "ae482dba-5238-4a49-ad1d-8c07f0203d1b",
   "metadata": {},
   "source": [
    "**First few row of training dataset**"
   ]
  },
  {
   "cell_type": "code",
   "execution_count": 6,
   "id": "4c175746-dfb2-4a02-9ea2-1bcf7d306b96",
   "metadata": {
    "tags": []
   },
   "outputs": [
    {
     "data": {
      "text/html": [
       "<div>\n",
       "<style scoped>\n",
       "    .dataframe tbody tr th:only-of-type {\n",
       "        vertical-align: middle;\n",
       "    }\n",
       "\n",
       "    .dataframe tbody tr th {\n",
       "        vertical-align: top;\n",
       "    }\n",
       "\n",
       "    .dataframe thead th {\n",
       "        text-align: right;\n",
       "    }\n",
       "</style>\n",
       "<table border=\"1\" class=\"dataframe\">\n",
       "  <thead>\n",
       "    <tr style=\"text-align: right;\">\n",
       "      <th></th>\n",
       "      <th>title</th>\n",
       "      <th>url</th>\n",
       "      <th>description</th>\n",
       "      <th>syllabus</th>\n",
       "      <th>skills</th>\n",
       "      <th>ratings_count</th>\n",
       "      <th>prerequisites</th>\n",
       "      <th>duration</th>\n",
       "      <th>category</th>\n",
       "      <th>level</th>\n",
       "      <th>schoolName</th>\n",
       "      <th>instructors</th>\n",
       "      <th>enrolled_students_count</th>\n",
       "      <th>avg_rating</th>\n",
       "      <th>num_reviews</th>\n",
       "      <th>price</th>\n",
       "      <th>source</th>\n",
       "    </tr>\n",
       "  </thead>\n",
       "  <tbody>\n",
       "    <tr>\n",
       "      <th>0</th>\n",
       "      <td>Learn Serbian 102</td>\n",
       "      <td>https://www.udemy.com/course/serbian-202/</td>\n",
       "      <td>Perfect for false beginners in Serbian, Bosnia...</td>\n",
       "      <td>[]</td>\n",
       "      <td>Not Available</td>\n",
       "      <td>14</td>\n",
       "      <td>['PC, laptop or ipad']</td>\n",
       "      <td>4.5 hours</td>\n",
       "      <td>course</td>\n",
       "      <td>beginner</td>\n",
       "      <td>Provided by Udemy Instructors</td>\n",
       "      <td>['Marina Petrovic']</td>\n",
       "      <td>120</td>\n",
       "      <td>4.5</td>\n",
       "      <td>14</td>\n",
       "      <td>$99.99</td>\n",
       "      <td>Udemy</td>\n",
       "    </tr>\n",
       "    <tr>\n",
       "      <th>1</th>\n",
       "      <td>Powerful Business Writing #2 – How to Write in...</td>\n",
       "      <td>https://www.udemy.com/course/write-less-say-more/</td>\n",
       "      <td>Boost your business writing skills – tips &amp; ch...</td>\n",
       "      <td>['Write shorter, more concise messages – with ...</td>\n",
       "      <td>Not Available</td>\n",
       "      <td>103</td>\n",
       "      <td>['The desire to write concisely and with confi...</td>\n",
       "      <td>43 mins</td>\n",
       "      <td>course</td>\n",
       "      <td>beginner</td>\n",
       "      <td>Provided by Udemy Instructors</td>\n",
       "      <td>['Caroline McDevitt']</td>\n",
       "      <td>839</td>\n",
       "      <td>3.7</td>\n",
       "      <td>103</td>\n",
       "      <td>$49.99</td>\n",
       "      <td>Udemy</td>\n",
       "    </tr>\n",
       "    <tr>\n",
       "      <th>2</th>\n",
       "      <td>SketchUp to LayOut</td>\n",
       "      <td>https://www.udemy.com/course/sketchuptolayout/</td>\n",
       "      <td>The essential guide to creating construction d...</td>\n",
       "      <td>['Have complete control over the look of your ...</td>\n",
       "      <td>Not Available</td>\n",
       "      <td>250</td>\n",
       "      <td>[]</td>\n",
       "      <td>3.5 hours</td>\n",
       "      <td>course</td>\n",
       "      <td>beginner</td>\n",
       "      <td>Provided by Udemy Instructors</td>\n",
       "      <td>['Matt Donley']</td>\n",
       "      <td>1418</td>\n",
       "      <td>4.7</td>\n",
       "      <td>250</td>\n",
       "      <td>$49.99</td>\n",
       "      <td>Udemy</td>\n",
       "    </tr>\n",
       "    <tr>\n",
       "      <th>3</th>\n",
       "      <td>Learn Adobe Dreamweaver CS6 - For Absolute Beg...</td>\n",
       "      <td>https://www.udemy.com/course/learn-adobe-dream...</td>\n",
       "      <td>A beginner level course for those new to Dream...</td>\n",
       "      <td>['Get started with Dreamweaver by navigating t...</td>\n",
       "      <td>Not Available</td>\n",
       "      <td>172</td>\n",
       "      <td>['Dreamweaver CS6']</td>\n",
       "      <td>12 hours</td>\n",
       "      <td>course</td>\n",
       "      <td>beginner</td>\n",
       "      <td>Provided by Udemy Instructors</td>\n",
       "      <td>['Simon Sez IT']</td>\n",
       "      <td>12905</td>\n",
       "      <td>4.5</td>\n",
       "      <td>172</td>\n",
       "      <td>$89.99</td>\n",
       "      <td>Udemy</td>\n",
       "    </tr>\n",
       "    <tr>\n",
       "      <th>4</th>\n",
       "      <td>Celebrating Financial Freedom</td>\n",
       "      <td>https://www.udemy.com/course/celebrating-finan...</td>\n",
       "      <td>The Christian Get Out of Debt Course</td>\n",
       "      <td>['To get you out of debt and into prosperity u...</td>\n",
       "      <td>Not Available</td>\n",
       "      <td>22</td>\n",
       "      <td>['None']</td>\n",
       "      <td>2 hours</td>\n",
       "      <td>course</td>\n",
       "      <td>beginner</td>\n",
       "      <td>Provided by Udemy Instructors</td>\n",
       "      <td>['Jason Cabler']</td>\n",
       "      <td>125</td>\n",
       "      <td>4.8</td>\n",
       "      <td>22</td>\n",
       "      <td>$94.99</td>\n",
       "      <td>Udemy</td>\n",
       "    </tr>\n",
       "  </tbody>\n",
       "</table>\n",
       "</div>"
      ],
      "text/plain": [
       "                                               title  \\\n",
       "0                                  Learn Serbian 102   \n",
       "1  Powerful Business Writing #2 – How to Write in...   \n",
       "2                                SketchUp to LayOut    \n",
       "3  Learn Adobe Dreamweaver CS6 - For Absolute Beg...   \n",
       "4                      Celebrating Financial Freedom   \n",
       "\n",
       "                                                 url  \\\n",
       "0          https://www.udemy.com/course/serbian-202/   \n",
       "1  https://www.udemy.com/course/write-less-say-more/   \n",
       "2     https://www.udemy.com/course/sketchuptolayout/   \n",
       "3  https://www.udemy.com/course/learn-adobe-dream...   \n",
       "4  https://www.udemy.com/course/celebrating-finan...   \n",
       "\n",
       "                                         description  \\\n",
       "0  Perfect for false beginners in Serbian, Bosnia...   \n",
       "1  Boost your business writing skills – tips & ch...   \n",
       "2  The essential guide to creating construction d...   \n",
       "3  A beginner level course for those new to Dream...   \n",
       "4               The Christian Get Out of Debt Course   \n",
       "\n",
       "                                            syllabus         skills  \\\n",
       "0                                                 []  Not Available   \n",
       "1  ['Write shorter, more concise messages – with ...  Not Available   \n",
       "2  ['Have complete control over the look of your ...  Not Available   \n",
       "3  ['Get started with Dreamweaver by navigating t...  Not Available   \n",
       "4  ['To get you out of debt and into prosperity u...  Not Available   \n",
       "\n",
       "  ratings_count                                      prerequisites   duration  \\\n",
       "0            14                             ['PC, laptop or ipad']  4.5 hours   \n",
       "1           103  ['The desire to write concisely and with confi...    43 mins   \n",
       "2           250                                                 []  3.5 hours   \n",
       "3           172                                ['Dreamweaver CS6']   12 hours   \n",
       "4            22                                           ['None']    2 hours   \n",
       "\n",
       "  category     level                     schoolName            instructors  \\\n",
       "0   course  beginner  Provided by Udemy Instructors    ['Marina Petrovic']   \n",
       "1   course  beginner  Provided by Udemy Instructors  ['Caroline McDevitt']   \n",
       "2   course  beginner  Provided by Udemy Instructors        ['Matt Donley']   \n",
       "3   course  beginner  Provided by Udemy Instructors       ['Simon Sez IT']   \n",
       "4   course  beginner  Provided by Udemy Instructors       ['Jason Cabler']   \n",
       "\n",
       "  enrolled_students_count avg_rating num_reviews   price source  \n",
       "0                     120        4.5          14  $99.99  Udemy  \n",
       "1                     839        3.7         103  $49.99  Udemy  \n",
       "2                    1418        4.7         250  $49.99  Udemy  \n",
       "3                   12905        4.5         172  $89.99  Udemy  \n",
       "4                     125        4.8          22  $94.99  Udemy  "
      ]
     },
     "execution_count": 6,
     "metadata": {},
     "output_type": "execute_result"
    }
   ],
   "source": [
    "all_courses_df.head()"
   ]
  },
  {
   "cell_type": "markdown",
   "id": "9a061444-7e52-4220-9c31-37f7b95c66e0",
   "metadata": {},
   "source": [
    "**What about info?**"
   ]
  },
  {
   "cell_type": "code",
   "execution_count": 7,
   "id": "1618c7b6-41ea-4766-9953-dd5c0705f1d0",
   "metadata": {
    "tags": []
   },
   "outputs": [
    {
     "name": "stdout",
     "output_type": "stream",
     "text": [
      "<class 'pandas.core.frame.DataFrame'>\n",
      "RangeIndex: 282 entries, 0 to 281\n",
      "Data columns (total 17 columns):\n",
      " #   Column                   Non-Null Count  Dtype \n",
      "---  ------                   --------------  ----- \n",
      " 0   title                    282 non-null    object\n",
      " 1   url                      282 non-null    object\n",
      " 2   description              279 non-null    object\n",
      " 3   syllabus                 282 non-null    object\n",
      " 4   skills                   282 non-null    object\n",
      " 5   ratings_count            282 non-null    object\n",
      " 6   prerequisites            282 non-null    object\n",
      " 7   duration                 279 non-null    object\n",
      " 8   category                 282 non-null    object\n",
      " 9   level                    282 non-null    object\n",
      " 10  schoolName               282 non-null    object\n",
      " 11  instructors              282 non-null    object\n",
      " 12  enrolled_students_count  282 non-null    object\n",
      " 13  avg_rating               282 non-null    object\n",
      " 14  num_reviews              282 non-null    object\n",
      " 15  price                    282 non-null    object\n",
      " 16  source                   282 non-null    object\n",
      "dtypes: object(17)\n",
      "memory usage: 37.6+ KB\n"
     ]
    }
   ],
   "source": [
    "all_courses_df.info()"
   ]
  },
  {
   "cell_type": "markdown",
   "id": "c15bcb24-2d0c-4c0e-ac2c-213cb56748f9",
   "metadata": {},
   "source": [
    "**What about Nulls?**"
   ]
  },
  {
   "cell_type": "code",
   "execution_count": 8,
   "id": "8627db83-f4d2-48b1-8970-bedfcf657f84",
   "metadata": {},
   "outputs": [
    {
     "data": {
      "text/plain": [
       "title                      0\n",
       "url                        0\n",
       "description                3\n",
       "syllabus                   0\n",
       "skills                     0\n",
       "ratings_count              0\n",
       "prerequisites              0\n",
       "duration                   3\n",
       "category                   0\n",
       "level                      0\n",
       "schoolName                 0\n",
       "instructors                0\n",
       "enrolled_students_count    0\n",
       "avg_rating                 0\n",
       "num_reviews                0\n",
       "price                      0\n",
       "source                     0\n",
       "dtype: int64"
      ]
     },
     "execution_count": 8,
     "metadata": {},
     "output_type": "execute_result"
    }
   ],
   "source": [
    "all_courses_df.isnull().sum()"
   ]
  },
  {
   "cell_type": "markdown",
   "id": "bfc74905-2e9e-4565-917c-34d3aca2d30e",
   "metadata": {},
   "source": [
    "## Data Cleaning\n"
   ]
  },
  {
   "cell_type": "markdown",
   "id": "2f4801eb-4b74-402b-9b98-379304e2d47f",
   "metadata": {},
   "source": [
    "Problems\n"
   ]
  },
  {
   "cell_type": "code",
   "execution_count": 9,
   "id": "0cc0cdce-3cf1-4b28-a182-1b426f7661d5",
   "metadata": {},
   "outputs": [
    {
     "data": {
      "text/plain": [
       "array(['14', '103', '250', '172', '22', '137', '556', '2556', '121',\n",
       "       '123', '18', '338', '94', '32', '186', '175', '1746', '627', '1',\n",
       "       '824', '162', '97', '854', '80', '2', '8', '571', '1400', '2250',\n",
       "       '700', 'Not Available', '1200', '1600', '2050', '1000', '1650',\n",
       "       '850', '750', '950', '300', '450', '400', '550', '500', '350',\n",
       "       '1850', '100'], dtype=object)"
      ]
     },
     "execution_count": 9,
     "metadata": {},
     "output_type": "execute_result"
    }
   ],
   "source": [
    "all_courses_df['ratings_count'].unique()"
   ]
  },
  {
   "cell_type": "code",
   "execution_count": 10,
   "id": "e6699de9-b03d-445f-bac1-7464abd985b2",
   "metadata": {},
   "outputs": [
    {
     "data": {
      "text/plain": [
       "array(['4.5', '3.7', '4.7', '4.8', '4.6', '3.4', '4.4', '3.9', '3', '5',\n",
       "       '4', '4.3', '3.8', '4.9', 'Not Available'], dtype=object)"
      ]
     },
     "execution_count": 10,
     "metadata": {},
     "output_type": "execute_result"
    }
   ],
   "source": [
    "all_courses_df['avg_rating'].unique()"
   ]
  },
  {
   "cell_type": "code",
   "execution_count": 11,
   "id": "fd8df126-f4d3-4dd6-8be2-9133b410f93d",
   "metadata": {},
   "outputs": [
    {
     "data": {
      "text/plain": [
       "array(['14', '103', '250', '172', '22', '137', '556', '2554', '121',\n",
       "       '123', '18', '338', '94', '32', '186', '175', '1746', '627', '1',\n",
       "       '824', '162', '97', '853', '80', '2', '8', '571', '1400', '2250',\n",
       "       '700', 'Not Available', '1200', '1600', '2050', '1000', '1650',\n",
       "       '850', '750', '950', '300', '450', '400', '550', '500', '350',\n",
       "       '1850', '100'], dtype=object)"
      ]
     },
     "execution_count": 11,
     "metadata": {},
     "output_type": "execute_result"
    }
   ],
   "source": [
    "all_courses_df['num_reviews'].unique()"
   ]
  },
  {
   "cell_type": "code",
   "execution_count": 12,
   "id": "c7078494-a821-4ef9-be2c-573a0b77f79b",
   "metadata": {},
   "outputs": [
    {
     "data": {
      "text/plain": [
       "array(['beginner', 'excpert', 'intermediate', 'advanced', 'free'],\n",
       "      dtype=object)"
      ]
     },
     "execution_count": 12,
     "metadata": {},
     "output_type": "execute_result"
    }
   ],
   "source": [
    "all_courses_df['level'].unique()"
   ]
  },
  {
   "cell_type": "markdown",
   "id": "a56537e5-6851-44c7-ba9a-f5335b6d7094",
   "metadata": {},
   "source": [
    "Solutions\n"
   ]
  },
  {
   "cell_type": "code",
   "execution_count": 13,
   "id": "d198177d-f37f-4046-a1cc-456b4f18dadf",
   "metadata": {},
   "outputs": [],
   "source": [
    "# remove 'Not Available' for features avg_rating, num_reviews, ratings_count\n",
    "# reomve free (wrong level) from level \n",
    "df = all_courses_df[all_courses_df['num_reviews'] != 'Not Available']\n",
    "df = df[df['avg_rating'] != 'Not Available']\n",
    "df = df[df['ratings_count'] != 'Not Available']\n",
    "df = df[df['level'] != 'free']"
   ]
  },
  {
   "cell_type": "code",
   "execution_count": 14,
   "id": "2f58e9d7-989e-4c51-ad8a-1c4e5f6c1566",
   "metadata": {},
   "outputs": [
    {
     "data": {
      "text/plain": [
       "array(['14', '103', '250', '172', '22', '137', '556', '2554', '121',\n",
       "       '123', '18', '338', '94', '32', '186', '175', '1746', '627', '1',\n",
       "       '824', '162', '97', '853', '80', '2', '8', '571', '1400', '2250',\n",
       "       '700', '1200', '1600', '2050', '1000', '1650', '850', '750', '950',\n",
       "       '300', '450', '400', '550', '500', '350', '1850', '100'],\n",
       "      dtype=object)"
      ]
     },
     "execution_count": 14,
     "metadata": {},
     "output_type": "execute_result"
    }
   ],
   "source": [
    "df['num_reviews'].unique()"
   ]
  },
  {
   "cell_type": "code",
   "execution_count": 15,
   "id": "73673e57-6b19-4636-a155-6d700be73c6e",
   "metadata": {},
   "outputs": [
    {
     "data": {
      "text/plain": [
       "array(['14', '103', '250', '172', '22', '137', '556', '2556', '121',\n",
       "       '123', '18', '338', '94', '32', '186', '175', '1746', '627', '1',\n",
       "       '824', '162', '97', '854', '80', '2', '8', '571', '1400', '2250',\n",
       "       '700', '1200', '1600', '2050', '1000', '1650', '850', '750', '950',\n",
       "       '300', '450', '400', '550', '500', '350', '1850', '100'],\n",
       "      dtype=object)"
      ]
     },
     "execution_count": 15,
     "metadata": {},
     "output_type": "execute_result"
    }
   ],
   "source": [
    "df['ratings_count'].unique()"
   ]
  },
  {
   "cell_type": "code",
   "execution_count": 16,
   "id": "81961536-b2f4-468d-abd9-8b80e24702af",
   "metadata": {},
   "outputs": [
    {
     "data": {
      "text/plain": [
       "array(['4.5', '3.7', '4.7', '4.8', '4.6', '3.4', '4.4', '3.9', '3', '5',\n",
       "       '4', '4.3', '3.8', '4.9'], dtype=object)"
      ]
     },
     "execution_count": 16,
     "metadata": {},
     "output_type": "execute_result"
    }
   ],
   "source": [
    "df['avg_rating'].unique()"
   ]
  },
  {
   "cell_type": "code",
   "execution_count": 17,
   "id": "9400ba2e-33ee-4dee-a09e-b287992c9e55",
   "metadata": {},
   "outputs": [
    {
     "data": {
      "text/plain": [
       "array(['beginner', 'excpert', 'intermediate', 'advanced'], dtype=object)"
      ]
     },
     "execution_count": 17,
     "metadata": {},
     "output_type": "execute_result"
    }
   ],
   "source": [
    "df['level'].unique()"
   ]
  },
  {
   "cell_type": "code",
   "execution_count": 18,
   "id": "2888641f-21be-466f-a601-b68a7d23c341",
   "metadata": {},
   "outputs": [],
   "source": [
    "# convert feature to numeric\n",
    "df['avg_rating'] = df['avg_rating'].astype('float64')\n",
    "df['ratings_count'] = df['ratings_count'].astype('float64')\n",
    "df['num_reviews'] = df['num_reviews'].astype('float64')"
   ]
  },
  {
   "cell_type": "markdown",
   "id": "894f3931-dc73-4038-8656-d1a59886d98a",
   "metadata": {},
   "source": [
    "## Feature Selection\n"
   ]
  },
  {
   "cell_type": "code",
   "execution_count": 19,
   "id": "41afda4e-e7e3-41fa-92c4-12dcc256b32d",
   "metadata": {},
   "outputs": [
    {
     "data": {
      "text/plain": [
       "Index(['title', 'url', 'description', 'syllabus', 'skills', 'ratings_count',\n",
       "       'prerequisites', 'duration', 'category', 'level', 'schoolName',\n",
       "       'instructors', 'enrolled_students_count', 'avg_rating', 'num_reviews',\n",
       "       'price', 'source'],\n",
       "      dtype='object')"
      ]
     },
     "execution_count": 19,
     "metadata": {},
     "output_type": "execute_result"
    }
   ],
   "source": [
    "df.columns"
   ]
  },
  {
   "cell_type": "code",
   "execution_count": 20,
   "id": "5e59efcc-c7f6-4c6d-b57d-b20cb66bf5dd",
   "metadata": {},
   "outputs": [],
   "source": [
    "features = ['ratings_count', 'level', 'avg_rating', 'num_reviews']\n",
    "y = 'price'"
   ]
  },
  {
   "cell_type": "code",
   "execution_count": 21,
   "id": "7b7f5dde-d397-4ec4-81e3-4506431943b7",
   "metadata": {},
   "outputs": [],
   "source": [
    "df = df[df[y] != 'None']"
   ]
  },
  {
   "cell_type": "code",
   "execution_count": 22,
   "id": "df63ebd7-52c6-44a8-a23b-f38b6c2c6d71",
   "metadata": {},
   "outputs": [
    {
     "data": {
      "text/html": [
       "<div>\n",
       "<style scoped>\n",
       "    .dataframe tbody tr th:only-of-type {\n",
       "        vertical-align: middle;\n",
       "    }\n",
       "\n",
       "    .dataframe tbody tr th {\n",
       "        vertical-align: top;\n",
       "    }\n",
       "\n",
       "    .dataframe thead th {\n",
       "        text-align: right;\n",
       "    }\n",
       "</style>\n",
       "<table border=\"1\" class=\"dataframe\">\n",
       "  <thead>\n",
       "    <tr style=\"text-align: right;\">\n",
       "      <th></th>\n",
       "      <th>ratings_count</th>\n",
       "      <th>level</th>\n",
       "      <th>avg_rating</th>\n",
       "      <th>num_reviews</th>\n",
       "    </tr>\n",
       "  </thead>\n",
       "  <tbody>\n",
       "    <tr>\n",
       "      <th>0</th>\n",
       "      <td>14.0</td>\n",
       "      <td>beginner</td>\n",
       "      <td>4.5</td>\n",
       "      <td>14.0</td>\n",
       "    </tr>\n",
       "    <tr>\n",
       "      <th>1</th>\n",
       "      <td>103.0</td>\n",
       "      <td>beginner</td>\n",
       "      <td>3.7</td>\n",
       "      <td>103.0</td>\n",
       "    </tr>\n",
       "    <tr>\n",
       "      <th>2</th>\n",
       "      <td>250.0</td>\n",
       "      <td>beginner</td>\n",
       "      <td>4.7</td>\n",
       "      <td>250.0</td>\n",
       "    </tr>\n",
       "    <tr>\n",
       "      <th>3</th>\n",
       "      <td>172.0</td>\n",
       "      <td>beginner</td>\n",
       "      <td>4.5</td>\n",
       "      <td>172.0</td>\n",
       "    </tr>\n",
       "    <tr>\n",
       "      <th>4</th>\n",
       "      <td>22.0</td>\n",
       "      <td>beginner</td>\n",
       "      <td>4.8</td>\n",
       "      <td>22.0</td>\n",
       "    </tr>\n",
       "  </tbody>\n",
       "</table>\n",
       "</div>"
      ],
      "text/plain": [
       "   ratings_count     level  avg_rating  num_reviews\n",
       "0           14.0  beginner         4.5         14.0\n",
       "1          103.0  beginner         3.7        103.0\n",
       "2          250.0  beginner         4.7        250.0\n",
       "3          172.0  beginner         4.5        172.0\n",
       "4           22.0  beginner         4.8         22.0"
      ]
     },
     "execution_count": 22,
     "metadata": {},
     "output_type": "execute_result"
    }
   ],
   "source": [
    "df[features].head()"
   ]
  },
  {
   "cell_type": "code",
   "execution_count": 23,
   "id": "7d67fb60-0860-4d10-a8f3-e2c0891ce11c",
   "metadata": {},
   "outputs": [
    {
     "data": {
      "text/plain": [
       "0    $99.99\n",
       "1    $49.99\n",
       "2    $49.99\n",
       "3    $89.99\n",
       "4    $94.99\n",
       "Name: price, dtype: object"
      ]
     },
     "execution_count": 23,
     "metadata": {},
     "output_type": "execute_result"
    }
   ],
   "source": [
    "df[y].head()"
   ]
  },
  {
   "cell_type": "code",
   "execution_count": 24,
   "id": "4a636556-cf86-4ac8-bbb3-cfbab5670dc9",
   "metadata": {},
   "outputs": [],
   "source": [
    "price_list = []\n",
    "for p in df['price']:\n",
    "    try:\n",
    "        price_list.append(float(p.split('$')[1])*15.73)\n",
    "    except:\n",
    "        price_list.append(float(p.split(' ')[1]))"
   ]
  },
  {
   "cell_type": "code",
   "execution_count": 25,
   "id": "dd566650-c592-4357-865f-e025774d283f",
   "metadata": {},
   "outputs": [],
   "source": [
    "df['new_price'] = price_list"
   ]
  },
  {
   "cell_type": "code",
   "execution_count": 26,
   "id": "ae56a929-e124-4bbb-a3e5-3204083688b9",
   "metadata": {},
   "outputs": [
    {
     "data": {
      "text/html": [
       "<div>\n",
       "<style scoped>\n",
       "    .dataframe tbody tr th:only-of-type {\n",
       "        vertical-align: middle;\n",
       "    }\n",
       "\n",
       "    .dataframe tbody tr th {\n",
       "        vertical-align: top;\n",
       "    }\n",
       "\n",
       "    .dataframe thead th {\n",
       "        text-align: right;\n",
       "    }\n",
       "</style>\n",
       "<table border=\"1\" class=\"dataframe\">\n",
       "  <thead>\n",
       "    <tr style=\"text-align: right;\">\n",
       "      <th></th>\n",
       "      <th>ratings_count</th>\n",
       "      <th>level</th>\n",
       "      <th>avg_rating</th>\n",
       "      <th>num_reviews</th>\n",
       "    </tr>\n",
       "  </thead>\n",
       "  <tbody>\n",
       "    <tr>\n",
       "      <th>0</th>\n",
       "      <td>14.0</td>\n",
       "      <td>beginner</td>\n",
       "      <td>4.5</td>\n",
       "      <td>14.0</td>\n",
       "    </tr>\n",
       "    <tr>\n",
       "      <th>1</th>\n",
       "      <td>103.0</td>\n",
       "      <td>beginner</td>\n",
       "      <td>3.7</td>\n",
       "      <td>103.0</td>\n",
       "    </tr>\n",
       "    <tr>\n",
       "      <th>2</th>\n",
       "      <td>250.0</td>\n",
       "      <td>beginner</td>\n",
       "      <td>4.7</td>\n",
       "      <td>250.0</td>\n",
       "    </tr>\n",
       "    <tr>\n",
       "      <th>3</th>\n",
       "      <td>172.0</td>\n",
       "      <td>beginner</td>\n",
       "      <td>4.5</td>\n",
       "      <td>172.0</td>\n",
       "    </tr>\n",
       "    <tr>\n",
       "      <th>4</th>\n",
       "      <td>22.0</td>\n",
       "      <td>beginner</td>\n",
       "      <td>4.8</td>\n",
       "      <td>22.0</td>\n",
       "    </tr>\n",
       "  </tbody>\n",
       "</table>\n",
       "</div>"
      ],
      "text/plain": [
       "   ratings_count     level  avg_rating  num_reviews\n",
       "0           14.0  beginner         4.5         14.0\n",
       "1          103.0  beginner         3.7        103.0\n",
       "2          250.0  beginner         4.7        250.0\n",
       "3          172.0  beginner         4.5        172.0\n",
       "4           22.0  beginner         4.8         22.0"
      ]
     },
     "execution_count": 26,
     "metadata": {},
     "output_type": "execute_result"
    }
   ],
   "source": [
    "df[features].head()"
   ]
  },
  {
   "cell_type": "code",
   "execution_count": 27,
   "id": "8e6381b3-7ba5-4078-910f-be1942db88eb",
   "metadata": {},
   "outputs": [
    {
     "data": {
      "text/plain": [
       "0    1572.8427\n",
       "1     786.3427\n",
       "2     786.3427\n",
       "3    1415.5427\n",
       "4    1494.1927\n",
       "Name: new_price, dtype: float64"
      ]
     },
     "execution_count": 27,
     "metadata": {},
     "output_type": "execute_result"
    }
   ],
   "source": [
    "df['new_price'].head()"
   ]
  },
  {
   "cell_type": "markdown",
   "id": "ab0e5e46-740d-431d-984b-274d031300ac",
   "metadata": {},
   "source": [
    "## Model Selection\n"
   ]
  },
  {
   "cell_type": "markdown",
   "id": "8c13ab33-61e6-43bc-b99d-d0dd6e0b0a4b",
   "metadata": {},
   "source": [
    "**use pipeline**\n"
   ]
  },
  {
   "cell_type": "code",
   "execution_count": 28,
   "id": "a85790c5-c137-43a9-b4cf-bcb72153d991",
   "metadata": {},
   "outputs": [],
   "source": [
    "num_cols = ['ratings_count', 'avg_rating', 'num_reviews']\n",
    "cat_cols = ['level']\n",
    "y = df['new_price']"
   ]
  },
  {
   "cell_type": "code",
   "execution_count": 29,
   "id": "de78dff8-f52b-4ea7-a4e6-d37a510b2f06",
   "metadata": {},
   "outputs": [],
   "source": [
    "num_pipeline = Pipeline([('std_scaler', StandardScaler())])\n",
    "\n",
    "cat_pipeline = Pipeline([('one_hot', OneHotEncoder())])"
   ]
  },
  {
   "cell_type": "code",
   "execution_count": 30,
   "id": "1fa49ffd-b69a-4404-93fc-349b744232cc",
   "metadata": {},
   "outputs": [],
   "source": [
    "preprocessor_pipeline = ColumnTransformer([(\"num_transformer\", num_pipeline, num_cols),\n",
    "                                         (\"cat_transformer\", cat_pipeline, cat_cols)])"
   ]
  },
  {
   "cell_type": "code",
   "execution_count": 31,
   "id": "c13e4096-2780-4671-b02c-e1c0fe8e37ba",
   "metadata": {},
   "outputs": [],
   "source": [
    "X = preprocessor_pipeline.fit_transform(df)"
   ]
  },
  {
   "cell_type": "markdown",
   "id": "e41406b4-4501-4018-8984-fe8bd36b3e5c",
   "metadata": {},
   "source": [
    "**Split Data to train and test**\n"
   ]
  },
  {
   "cell_type": "code",
   "execution_count": 32,
   "id": "a3a5441f-ec71-482a-ba26-1111f71fa4e8",
   "metadata": {},
   "outputs": [],
   "source": [
    "X_train, X_test, y_train, y_test = train_test_split(X, y, test_size=0.1, random_state=10)"
   ]
  },
  {
   "cell_type": "markdown",
   "id": "946ac8de-c8bf-4ef7-b3a2-cd425f138641",
   "metadata": {},
   "source": [
    "**Training**\n"
   ]
  },
  {
   "cell_type": "code",
   "execution_count": 33,
   "id": "e4145f49-31dd-4f1d-a596-21c8ccca35c6",
   "metadata": {},
   "outputs": [
    {
     "data": {
      "text/plain": [
       "SGDRegressor(eta0=0.1, penalty=None, random_state=42)"
      ]
     },
     "execution_count": 33,
     "metadata": {},
     "output_type": "execute_result"
    }
   ],
   "source": [
    "sgd_reg = SGDRegressor(max_iter=1000, tol=1e-3, penalty=None, eta0=0.1, random_state=42)\n",
    "sgd_reg.fit(X_train, y_train.ravel())"
   ]
  },
  {
   "cell_type": "markdown",
   "id": "98b3891c-e23f-452c-a782-e7f2e557d1b3",
   "metadata": {},
   "source": [
    "**Predicting and calculate r2 score**\n"
   ]
  },
  {
   "cell_type": "code",
   "execution_count": 34,
   "id": "8938860e-eb23-4dd9-97b2-fbce80317403",
   "metadata": {},
   "outputs": [],
   "source": [
    "y_predict = sgd_reg.predict(X_test)"
   ]
  },
  {
   "cell_type": "code",
   "execution_count": 35,
   "id": "80fdbb8b-cabe-4a32-9285-57fed6d13351",
   "metadata": {},
   "outputs": [],
   "source": [
    "score = r2_score(y_test, y_predict)"
   ]
  },
  {
   "cell_type": "code",
   "execution_count": 36,
   "id": "ecc11187-5ef1-4242-aa86-855762df9a03",
   "metadata": {},
   "outputs": [
    {
     "name": "stdout",
     "output_type": "stream",
     "text": [
      "-0.4617500465479967\n"
     ]
    }
   ],
   "source": [
    "print(score)"
   ]
  },
  {
   "cell_type": "markdown",
   "id": "2d5599dc-84bb-4eb8-8cc7-565400e8b8b2",
   "metadata": {},
   "source": [
    "## The r2 score is very small because the data is small and I haven't enough time to work with data preperation and scrape large amount of courses  "
   ]
  },
  {
   "cell_type": "markdown",
   "id": "c2668873-3e84-4f8f-8393-a9c80df2eb32",
   "metadata": {},
   "source": [
    "## Thank you "
   ]
  }
 ],
 "metadata": {
  "kernelspec": {
   "display_name": "Python 3 (ipykernel)",
   "language": "python",
   "name": "python3"
  },
  "language_info": {
   "codemirror_mode": {
    "name": "ipython",
    "version": 3
   },
   "file_extension": ".py",
   "mimetype": "text/x-python",
   "name": "python",
   "nbconvert_exporter": "python",
   "pygments_lexer": "ipython3",
   "version": "3.8.10"
  }
 },
 "nbformat": 4,
 "nbformat_minor": 5
}
