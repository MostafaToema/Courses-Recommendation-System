{
 "cells": [
  {
   "cell_type": "markdown",
   "id": "a2d7399f-d380-4f8a-aee1-66c2697d6d0d",
   "metadata": {},
   "source": [
    "### CONSTANTS Variables"
   ]
  },
  {
   "cell_type": "code",
   "execution_count": 1,
   "id": "e9280c6a-3ea9-4be8-8ab9-a177092bf385",
   "metadata": {},
   "outputs": [],
   "source": [
    "# CONSTANTS\n",
    "DRIVER_PATH = \"/home/saleh/Documents/INetwork Project/geckodriver\"\n",
    "SOURCE_URL = \"https://www.udacity.com/courses/all\" \n",
    "UDACITY_URL = 'https://www.udacity.com'\n",
    "UDEMY_URL = 'https://www.udemy.com'\n",
    "CLIENT_ID = 'jqRzWZZfdvjdtQpzEDmjGWVmhLMpTWHv5uN27li3'\n",
    "CLIENT_SECRET = 'b8MjyR6TUXzCcXnFDIVrCpHbMpDAUrJW40xqV2zvBoagL6aAWZ9a0JAMg54TyYaOxZ9ksEwt2JpJmt98En5pszOnrHxrPrZlbg3pNCCcTb9SkmBwcCpnoWYddQjOOSPq'\n",
    "list_of_required_keys = ['title', 'url', 'description', 'syllabus',\\\n",
    "                         'skills', 'ratings_count', 'prerequisites', 'duration',\\\n",
    "                         'category', 'level', 'schoolName', 'instructors', 'enrolled_students_count',\\\n",
    "                         'avg_rating', 'num_reviews', 'price', 'source']"
   ]
  },
  {
   "cell_type": "markdown",
   "id": "9dd8dac9-06cc-4976-bd64-4cb7d97983ad",
   "metadata": {},
   "source": [
    "### Import Libraries"
   ]
  },
  {
   "cell_type": "code",
   "execution_count": 2,
   "id": "6707b463-f4a5-4068-ad2d-a83ef7664478",
   "metadata": {},
   "outputs": [],
   "source": [
    "# Import Libraries\n",
    "from bs4 import BeautifulSoup\n",
    "from selenium import webdriver\n",
    "from selenium.webdriver.firefox.options import Options\n",
    "from pyudemy import Udemy\n",
    "import requests\n",
    "import time\n",
    "import re\n",
    "import json \n",
    "from pymongo import MongoClient"
   ]
  },
  {
   "cell_type": "markdown",
   "id": "ac684282-5af3-4b73-a0db-4e9a06ec243a",
   "metadata": {},
   "source": [
    "### Setup Web Driver "
   ]
  },
  {
   "cell_type": "code",
   "execution_count": 3,
   "id": "eb75281f-5c6b-450d-bfa5-b1c817c0d925",
   "metadata": {},
   "outputs": [],
   "source": [
    "# Setup Firefox dirver to prevent pop-up\n",
    "Firefox_option = Options()\n",
    "Firefox_option.add_argument('--headless')\n",
    "Firefox_option.add_argument('--no-sandbox')\n",
    "Firefox_option.add_argument('--disable-dev-shm-usage')\n",
    "driver = webdriver.Firefox(executable_path = DRIVER_PATH, options = Firefox_option)"
   ]
  },
  {
   "cell_type": "markdown",
   "id": "561a98f0-e0eb-4306-8c55-cae12caa7950",
   "metadata": {},
   "source": [
    "### Udacity courses scraping"
   ]
  },
  {
   "cell_type": "code",
   "execution_count": 4,
   "id": "e3da2022-107d-4a1d-8e14-f41c78babe36",
   "metadata": {},
   "outputs": [],
   "source": [
    "# Get html code from source page \n",
    "driver.get(SOURCE_URL)\n",
    "# sleep time to scrape all info from page\n",
    "time.sleep(5)"
   ]
  },
  {
   "cell_type": "code",
   "execution_count": 5,
   "id": "2a73c529-f8d8-4a78-be39-f4505535dc3a",
   "metadata": {},
   "outputs": [],
   "source": [
    "# Create BeautifulSoup object to scrape information from source page\n",
    "soup = BeautifulSoup(driver.page_source, 'html.parser')"
   ]
  },
  {
   "cell_type": "code",
   "execution_count": 6,
   "id": "4672cf1c-21e4-4e66-bbb6-a4e810b15f1f",
   "metadata": {},
   "outputs": [],
   "source": [
    "# Scrape all information needed from the page of alll courses\n",
    "courses_title = list(map( lambda x : x.text , soup.find_all('h2' , {\"class\" : \"card_title__35G97\"})))\n",
    "courses_urls = list(map(lambda x : UDACITY_URL + x['href'] , soup.find_all('a' , {\"class\" : \"card_container__25DrK\"}) ))\n",
    "courses_duration = list(map(lambda x : x.text , soup.find_all(\"span\" , {\"class\" : \"card_duration__1hWII\"})))\n",
    "description = list(map(lambda x : x.text , soup.find_all(\"p\" , {\"class\" : \"card_summary__1HlQ7\"})))\n",
    "\n",
    "skills = list(map( lambda x : x.text , soup.select(\"div[class='card_details__3VdjA'] > p:nth-of-type(1)\")))\n",
    "prerequisites = list(map( lambda x : x.text , soup.select(\"div[class='card_details__3VdjA'] > p:nth-of-type(2)\")))\n",
    "\n",
    "levels = list(map(lambda x : x.text , soup.select(\"div[class='card_stats__AV1N0'] > span:nth-of-type(1)\")))\n",
    "categories = list(map(lambda x : x.text , soup.select(\"div[class='card_flagContainer__2Jiia'] > div\")))"
   ]
  },
  {
   "cell_type": "code",
   "execution_count": 7,
   "id": "69c8a3dc-5b13-4e9b-8501-190cd74c9f96",
   "metadata": {},
   "outputs": [],
   "source": [
    "# drop courses without prerequisites and skills\n",
    "drop_courses = ['SQL for Data Analysis', 'Secure and Private AI', 'Intro to TensorFlow for Deep Learning',\n",
    "                'What is Programming?', 'iOS Design Patterns', 'Passwordless Login Solutions for Android',\n",
    "                'Configuring Linux Web Servers', 'JavaScript and the DOM', 'WeChat Mini Program Development',\n",
    "                'Cyber-Physical Systems Design & Analysis', 'Introduction to Graduate Algorithms',\n",
    "                'Introduction to Python Programming', 'Computability, Complexity & Algorithms']"
   ]
  },
  {
   "cell_type": "code",
   "execution_count": 8,
   "id": "e7e9f308-288e-4bd8-b56e-1a19616d83bc",
   "metadata": {},
   "outputs": [],
   "source": [
    "# drop courses without prerequisites and skills from other lists related to courses\n",
    "for drop_course in drop_courses:\n",
    "    index = courses_title.index(drop_course)\n",
    "    \n",
    "    del(courses_title[index])\n",
    "    del(courses_urls[index])\n",
    "    del(courses_duration[index])\n",
    "    del(description[index])\n",
    "    del(levels[index])\n",
    "    del(categories[index])"
   ]
  },
  {
   "cell_type": "code",
   "execution_count": 9,
   "id": "84096a86-57d3-4203-b928-6c7491aee3b3",
   "metadata": {},
   "outputs": [],
   "source": [
    "# add empty string to prerequisites to be the same number of courses\n",
    "# prerequisites of free courses is empty\n",
    "for i in range(len(courses_title)-len(prerequisites)):\n",
    "    prerequisites.append('')"
   ]
  },
  {
   "cell_type": "markdown",
   "id": "af8bdc3c-a528-4bf7-bea6-5b6059f943ab",
   "metadata": {},
   "source": [
    "### Create List of Dictionay of courses scraped from Udacity"
   ]
  },
  {
   "cell_type": "code",
   "execution_count": 10,
   "id": "81fe7233-0378-4bc3-8129-28af796a059e",
   "metadata": {},
   "outputs": [],
   "source": [
    "def map_new_keys_for_udacity(title, url, duration, description, skill, prerequisites, level, category):\n",
    "    course_dict = {}\n",
    "    \n",
    "    def scraping_udacity_course(url, prerequisites):\n",
    "        # This function to get missed information from main page\n",
    "        # Get html code from source page \n",
    "        driver.get(url)\n",
    "        time.sleep(5)\n",
    "        \n",
    "        # category is nanodegree\n",
    "        if category == 'nanodegree':\n",
    "            syllabus = 'Not Available'\n",
    "            enrolled_students_count = 'Not Available'\n",
    "            ret_prerequisites = prerequisites\n",
    "            \n",
    "            # exception handeling if the scraped features not found \n",
    "            try:\n",
    "                avg_rating_temp = driver.find_elements_by_xpath(\"/html/body/div[1]/div/div/div[2]/section[9]/section/div/header/div/div[1]\")\n",
    "                avg_rating = avg_rating_temp[0].text\n",
    "            except:\n",
    "                avg_rating = 'Not Available'\n",
    "\n",
    "            try:\n",
    "                ratings_count_temp = driver.find_elements_by_xpath(\"/html/body/div[1]/div/div/div[2]/section[9]/section/div/header/div/span\")\n",
    "                ratings_count = ratings_count_temp[0].text[1:-1]\n",
    "            except:\n",
    "                ratings_count = 'Not Available'\n",
    "\n",
    "            num_reviews = ratings_count\n",
    "\n",
    "            instructors_temp = driver.find_elements_by_xpath('/html/body/div[1]/div/div/div[2]/section[8]/div/div/div/div[1]/a/h5')\n",
    "\n",
    "            instructors = []\n",
    "            for name in instructors_temp:\n",
    "                instructors.append(name.text)\n",
    "            try:\n",
    "                p = driver.find_elements_by_xpath(\"/html/body/div[1]/div/div/div[2]/section[10]/div/div/ul[1]/li[2]/figure/article/div[2]/p/ins\")\n",
    "                price =  p[0].text\n",
    "            except:\n",
    "                # price is none if price not scraped or not found\n",
    "                price = 'None'\n",
    "\n",
    "        # category is free      \n",
    "        else:\n",
    "            syllabus = 'Not Available'\n",
    "            enrolled_students_count = 'Not Available'\n",
    "            avg_rating = 'Not Available'\n",
    "            ratings_count = 'Not Available'\n",
    "            num_reviews = ratings_count\n",
    "            \n",
    "            ret_prerequisites_temp = driver.find_elements_by_xpath(\"/html/body/div[1]/div/div/div[2]/section[7]/section/div\")\n",
    "            \n",
    "            ret_prerequisites = []\n",
    "            for pre in ret_prerequisites_temp:\n",
    "                ret_prerequisites.append(pre.text)\n",
    "            \n",
    "            instructors_temp = driver.find_elements_by_xpath(\"/html/body/div[1]/div/div/div[2]/section[5]/section/div/div/div/h3\")\n",
    "\n",
    "            instructors = []\n",
    "            for name in instructors_temp:\n",
    "                instructors.append(name.text)\n",
    "                \n",
    "            price =  0\n",
    "        \n",
    "        return syllabus, ratings_count, instructors, enrolled_students_count, avg_rating, num_reviews, price, ret_prerequisites\n",
    "    \n",
    "        \n",
    "    scraped_items = scraping_udacity_course(url, prerequisites)\n",
    "\n",
    "    # Mapped all data to dictionary\n",
    "    # title\n",
    "    course_dict[list_of_required_keys[0]] = title\n",
    "    # url\n",
    "    course_dict[list_of_required_keys[1]] = url\n",
    "    # description\n",
    "    course_dict[list_of_required_keys[2]] = description\n",
    "    # syllabus\n",
    "    course_dict[list_of_required_keys[3]] = scraped_items[0]\n",
    "    # skills \n",
    "    course_dict[list_of_required_keys[4]] = skill\n",
    "    # ratings_count\n",
    "    course_dict[list_of_required_keys[5]] = scraped_items[1]\n",
    "    # prerequisites\n",
    "    course_dict[list_of_required_keys[6]] = scraped_items[7]\n",
    "    # duration\n",
    "    course_dict[list_of_required_keys[7]] = duration \n",
    "    # category \n",
    "    course_dict[list_of_required_keys[8]] = category\n",
    "    # level\n",
    "    course_dict[list_of_required_keys[9]] = level\n",
    "    # schoolName\n",
    "    course_dict[list_of_required_keys[10]] = 'Udacity Schools'\n",
    "    # instructors\n",
    "    course_dict[list_of_required_keys[11]] = scraped_items[2]\n",
    "    # enrolled_students_count\n",
    "    course_dict[list_of_required_keys[12]] = scraped_items[3]\n",
    "    # avg_rating\n",
    "    course_dict[list_of_required_keys[13]] = scraped_items[4]\n",
    "    # num_reviews\n",
    "    course_dict[list_of_required_keys[14]] = scraped_items[5]\n",
    "    # price\n",
    "    course_dict[list_of_required_keys[15]] = scraped_items[6]\n",
    "    # source\n",
    "    course_dict[list_of_required_keys[16]] = 'Udacity'\n",
    "\n",
    "    return course_dict"
   ]
  },
  {
   "cell_type": "code",
   "execution_count": 11,
   "id": "b0954796-6e9c-415e-a6ae-48988069b036",
   "metadata": {},
   "outputs": [],
   "source": [
    "course_dict = {}\n",
    "list_of_udacity_courses = []"
   ]
  },
  {
   "cell_type": "markdown",
   "id": "ca2ba4be-ae9a-4aae-becf-edc7fbc37581",
   "metadata": {},
   "source": [
    "### Loop over courses url's to scrape data "
   ]
  },
  {
   "cell_type": "code",
   "execution_count": 12,
   "id": "5be422d0-e17f-4baf-828f-ffa91b492814",
   "metadata": {
    "tags": []
   },
   "outputs": [],
   "source": [
    "for i in range(len(courses_title)):\n",
    "    list_of_udacity_courses.append(map_new_keys_for_udacity(courses_title[i], courses_urls[i], courses_duration[i],\\\n",
    "                                                            description[i], skills[i], prerequisites[i], levels[i],\\\n",
    "                                                            categories[i]))"
   ]
  },
  {
   "cell_type": "code",
   "execution_count": 13,
   "id": "f743c604-2698-462c-a5b2-d8838bc036d4",
   "metadata": {},
   "outputs": [
    {
     "data": {
      "text/plain": [
       "{'title': 'Product Manager',\n",
       " 'url': 'https://www.udacity.com/course/product-manager-nanodegree--nd036',\n",
       " 'description': 'Envision and execute the development of industry-defining products, and learn how to successfully bring them to market.',\n",
       " 'syllabus': 'Not Available',\n",
       " 'skills': 'Product Strategy, Product Design, Product Development, Design Sprint, Product Launch',\n",
       " 'ratings_count': '700',\n",
       " 'prerequisites': 'No Experience Required',\n",
       " 'duration': '4 Months',\n",
       " 'category': 'nanodegree',\n",
       " 'level': 'beginner',\n",
       " 'schoolName': 'Udacity Schools',\n",
       " 'instructors': ['Anastasia Root', 'Alex King', 'Yuva Murugan'],\n",
       " 'enrolled_students_count': 'Not Available',\n",
       " 'avg_rating': '4.7',\n",
       " 'num_reviews': '700',\n",
       " 'price': 'EGP 22076',\n",
       " 'source': 'Udacity'}"
      ]
     },
     "execution_count": 13,
     "metadata": {},
     "output_type": "execute_result"
    }
   ],
   "source": [
    "list_of_udacity_courses[2]"
   ]
  },
  {
   "cell_type": "markdown",
   "id": "08472efe-85ae-4509-a847-0e4c8a647e84",
   "metadata": {},
   "source": [
    "### Convert list of udacity courses to json object"
   ]
  },
  {
   "cell_type": "code",
   "execution_count": 14,
   "id": "52ec98b8-7dff-45a4-896b-7b92e1372fdc",
   "metadata": {},
   "outputs": [],
   "source": [
    "udacity_courses_json = json.dumps(list_of_udacity_courses, indent = 4)"
   ]
  },
  {
   "cell_type": "markdown",
   "id": "11c8225a-3f41-4102-86ed-b6616ddf242a",
   "metadata": {},
   "source": [
    "### Udemy courses scraping"
   ]
  },
  {
   "cell_type": "code",
   "execution_count": 30,
   "id": "388629a8-d92c-42b8-b51d-b774e518107d",
   "metadata": {},
   "outputs": [],
   "source": [
    "# Choise small number of courses scraped from udemy to reduce run time\n",
    "NO_OF_UDEMY_COURSES = 10"
   ]
  },
  {
   "cell_type": "code",
   "execution_count": 31,
   "id": "ff5e6ccf-e05e-4201-972a-f6b8bf0985cc",
   "metadata": {},
   "outputs": [],
   "source": [
    "udemy = Udemy(CLIENT_ID, CLIENT_SECRET)"
   ]
  },
  {
   "cell_type": "code",
   "execution_count": 32,
   "id": "b5bad2b3-144a-45db-93b5-db1998e79d8e",
   "metadata": {},
   "outputs": [],
   "source": [
    "# select the category of courses\n",
    "courses_beginner = udemy.courses(page_size = NO_OF_UDEMY_COURSES, instructional_level = 'beginner')\n",
    "courses_intermediate = udemy.courses(page_size = NO_OF_UDEMY_COURSES, instructional_level = 'intermediate')\n",
    "courses_excpert = udemy.courses(page_size = NO_OF_UDEMY_COURSES, instructional_level = 'expert')"
   ]
  },
  {
   "cell_type": "code",
   "execution_count": 33,
   "id": "ae642bae-6365-4c27-82fd-7660f0acca2d",
   "metadata": {},
   "outputs": [
    {
     "name": "stdout",
     "output_type": "stream",
     "text": [
      "dict_keys(['count', 'next', 'previous', 'results', 'aggregations', 'search_tracking_id'])\n"
     ]
    }
   ],
   "source": [
    "# keys of courses_beginner to select the key of data\n",
    "print(courses_beginner.keys())"
   ]
  },
  {
   "cell_type": "code",
   "execution_count": 34,
   "id": "8895d2e9-188c-40d3-ae76-220515862f1f",
   "metadata": {},
   "outputs": [
    {
     "data": {
      "text/plain": [
       "dict_keys(['_class', 'id', 'title', 'url', 'is_paid', 'price', 'price_detail', 'price_serve_tracking_id', 'visible_instructors', 'image_125_H', 'image_240x135', 'is_practice_test_course', 'image_480x270', 'published_title', 'tracking_id', 'predictive_score', 'relevancy_score', 'input_features', 'lecture_search_result', 'curriculum_lectures', 'order_in_results', 'curriculum_items', 'headline', 'instructor_name'])"
      ]
     },
     "execution_count": 34,
     "metadata": {},
     "output_type": "execute_result"
    }
   ],
   "source": [
    "# keys of data of each course \n",
    "courses_beginner['results'][0].keys()"
   ]
  },
  {
   "cell_type": "code",
   "execution_count": 35,
   "id": "db3e42ec-52eb-4e26-b948-34f38a973a5e",
   "metadata": {},
   "outputs": [],
   "source": [
    "course_dict = {}\n",
    "list_of_udemy_courses = []"
   ]
  },
  {
   "cell_type": "markdown",
   "id": "014f4d68-408f-4343-aa74-e5ac61ed9205",
   "metadata": {},
   "source": [
    "### Create List of Dictionay of courses scraped from Udemy"
   ]
  },
  {
   "cell_type": "code",
   "execution_count": 36,
   "id": "f7355594-f132-43e4-9fc4-148f1c333bb6",
   "metadata": {
    "tags": []
   },
   "outputs": [],
   "source": [
    "def map_new_keys_for_udemy(course, level, list_of_keys = list_of_required_keys):\n",
    "    course_dict = {}\n",
    "    \n",
    "    def scraping_udemy_course(course_url):\n",
    "        # Get html code from source page \n",
    "        driver.get(course_url)\n",
    "        time.sleep(5)\n",
    "        \n",
    "        avg_rating_temp = driver.find_elements_by_xpath(\"/html/body/div[1]/div[3]/div[2]/div[3]/div/div/div[4]/div/div[1]/div[2]/div/div[1]/div/div/a/span[1]/span[2]\")\n",
    "        avg_rating = avg_rating_temp[0].text\n",
    "        \n",
    "        enrolled_students_count_temp = driver.find_elements_by_xpath(\"/html/body/div[1]/div[3]/div[2]/div[3]/div/div/div[4]/div/div[1]/div[2]/div/div[2]/div\")\n",
    "        enrolled_students_count = re.split(' s', (enrolled_students_count_temp[0].text))[0]\n",
    "        \n",
    "        syllabus_temp = driver.find_elements_by_xpath(\"/html/body/div[1]/div[3]/div[2]/div[4]/div[2]/div/div/div/div/div/ul/li/div\")\n",
    "        \n",
    "        syllabus = []\n",
    "        for s in syllabus_temp:\n",
    "            syllabus.append(s.text)\n",
    "        \n",
    "        \n",
    "        ratings_count_temp = driver.find_elements_by_xpath(\"/html/body/div[1]/div[3]/div[2]/div[3]/div/div/div[4]/div/div[1]/div[2]/div/div[1]/div/div/a/span[2]\")\n",
    "        ratings_count = re.split(' r', (ratings_count_temp[0].text))[0][1:]\n",
    "        \n",
    "        \n",
    "        duration_temp = driver.find_elements_by_xpath(\"/html/body/div[1]/div[3]/div[2]/div[2]/div/div/div/div[1]/div/div[1]/div[2]/div/div[4]/div/ul/li[1]/div/div/span\")\n",
    "        duration = re.split(' o', (duration_temp[0].text))[0]\n",
    "        \n",
    "        instructors_temp = driver.find_elements_by_xpath(\"/html/body/div[1]/div[3]/div[2]/div[3]/div/div/div[4]/div/div[1]/div[3]/div/div/div/div/span/a/span\")\n",
    "        \n",
    "        instructors = []\n",
    "        for i in instructors_temp:\n",
    "            instructors.append(i.text)\n",
    "            \n",
    "            \n",
    "        prerequisites_temp = driver.find_elements_by_xpath(\"/html/body/div[1]/div[3]/div[2]/div[4]/div[6]/div/div/div/div/ul/li/div/div\")\n",
    "        \n",
    "        prerequisites = []\n",
    "        for p in prerequisites_temp:\n",
    "            prerequisites.append(p.text)\n",
    "        \n",
    "        return syllabus, ratings_count, prerequisites, duration, instructors, enrolled_students_count, avg_rating\n",
    "        \n",
    "        \n",
    "    scraped_items = scraping_udemy_course(UDEMY_URL + course['url'])\n",
    "\n",
    "\n",
    "    # title\n",
    "    course_dict[list_of_required_keys[0]] = course['title']\n",
    "    # url\n",
    "    course_dict[list_of_required_keys[1]] = UDEMY_URL + course['url']\n",
    "    # description\n",
    "    course_dict[list_of_required_keys[2]] = course['headline']\n",
    "    # syllabus\n",
    "    course_dict[list_of_required_keys[3]] = scraped_items[0]\n",
    "    # skills \n",
    "    course_dict[list_of_required_keys[4]] = 'Not Available'\n",
    "    # ratings_count\n",
    "    course_dict[list_of_required_keys[5]] = scraped_items[1]\n",
    "    # prerequisites\n",
    "    course_dict[list_of_required_keys[6]] = scraped_items[2]\n",
    "    # duration\n",
    "    course_dict[list_of_required_keys[7]] = scraped_items[3]\n",
    "    # category \n",
    "    course_dict[list_of_required_keys[8]] = course['_class']\n",
    "    # level\n",
    "    course_dict[list_of_required_keys[9]] = level\n",
    "    # schoolName\n",
    "    course_dict[list_of_required_keys[10]] = \"Provided by Udemy Instructors\"\n",
    "    # instructors\n",
    "    course_dict[list_of_required_keys[11]] = scraped_items[4]\n",
    "    # enrolled_students_count\n",
    "    course_dict[list_of_required_keys[12]] = scraped_items[5]\n",
    "    # avg_rating\n",
    "    course_dict[list_of_required_keys[13]] = scraped_items[6]\n",
    "    # num_reviews\n",
    "    course_dict[list_of_required_keys[14]] = udemy.course_reviews(course['id'])['count']\n",
    "    # price\n",
    "    course_dict[list_of_required_keys[15]] = course['price']\n",
    "    # source\n",
    "    course_dict[list_of_required_keys[16]] = 'Udemy'\n",
    "\n",
    "    return course_dict"
   ]
  },
  {
   "cell_type": "markdown",
   "id": "f1f0cd9e-bc5b-445d-968a-b68782556cbc",
   "metadata": {},
   "source": [
    "### Loop over courses url's to scrape data "
   ]
  },
  {
   "cell_type": "code",
   "execution_count": 39,
   "id": "f3547a41-3d84-45f4-9667-cf46f5c9999b",
   "metadata": {},
   "outputs": [],
   "source": [
    "for course in courses_beginner['results']:\n",
    "    list_of_udemy_courses.append(map_new_keys_for_udemy(course, 'beginner'))\n",
    "    \n",
    "for course in courses_intermediate['results']:\n",
    "    list_of_udemy_courses.append(map_new_keys_for_udemy(course, 'intermediate'))\n",
    "    \n",
    "for course in courses_excpert['results']:\n",
    "    list_of_udemy_courses.append(map_new_keys_for_udemy(course, 'excpert'))"
   ]
  },
  {
   "cell_type": "code",
   "execution_count": 40,
   "id": "30189803-2721-4f2e-9346-26a338fb8d63",
   "metadata": {},
   "outputs": [
    {
     "data": {
      "text/plain": [
       "{'title': 'Dynamic Cloth for Games in Maya for Unreal',\n",
       " 'url': 'https://www.udemy.com/course/3dmotive-dynamic-cloth-for-games-with-maya-and-udk/',\n",
       " 'description': 'Learn how to create dynamic cloth elements for real-time game environments!',\n",
       " 'syllabus': ['Learn how to implement dynamic cloth into Maya and UDK',\n",
       "  'Learn APEX clothing used in Maya and UDK'],\n",
       " 'skills': 'Not Available',\n",
       " 'ratings_count': '7',\n",
       " 'prerequisites': [\"Autodesk's Maya\", 'UDK'],\n",
       " 'duration': '1 hour',\n",
       " 'category': 'course',\n",
       " 'level': 'excpert',\n",
       " 'schoolName': 'Provided by Udemy Instructors',\n",
       " 'instructors': ['3dmotive LLC'],\n",
       " 'enrolled_students_count': '150',\n",
       " 'avg_rating': '3.7',\n",
       " 'num_reviews': 7,\n",
       " 'price': '$19.99',\n",
       " 'source': 'Udemy'}"
      ]
     },
     "execution_count": 40,
     "metadata": {},
     "output_type": "execute_result"
    }
   ],
   "source": [
    "list_of_udemy_courses[2]"
   ]
  },
  {
   "cell_type": "markdown",
   "id": "ba03a0db-f27f-4a0f-a445-fa5dc77a6826",
   "metadata": {},
   "source": [
    "### Convert list of udemy courses to json object"
   ]
  },
  {
   "cell_type": "code",
   "execution_count": 41,
   "id": "2a0d5fb4-919e-4121-8ee8-c802cd57eeb8",
   "metadata": {},
   "outputs": [],
   "source": [
    "udemy_courses_json = json.dumps(list_of_udemy_courses, indent = 4)"
   ]
  },
  {
   "cell_type": "markdown",
   "id": "52731cc8-273c-4431-9fa9-5f234fe67eb5",
   "metadata": {},
   "source": [
    "### store two courses list scraped from udacity and udemy in Mongo DB (Udemy_Udacity_Scraped_courses)"
   ]
  },
  {
   "cell_type": "code",
   "execution_count": 42,
   "id": "9aade786-6ebd-4a24-a4fe-bb16b2c552ff",
   "metadata": {},
   "outputs": [],
   "source": [
    "# Connect to my NOSQL DB (Mongo DB) Udemy_Udacity_Scraped_courses\n",
    "# 27017 is the default port number for (Mongo DB)\n",
    "client = MongoClient('localhost',27017)  \n",
    "db = client.Udemy_Udacity_Scraped_courses"
   ]
  },
  {
   "cell_type": "code",
   "execution_count": 43,
   "id": "2d34999c-a1f6-4e64-9748-0fbf72514b03",
   "metadata": {},
   "outputs": [
    {
     "data": {
      "text/plain": [
       "<pymongo.results.InsertManyResult at 0x7fb10c38e3c0>"
      ]
     },
     "execution_count": 43,
     "metadata": {},
     "output_type": "execute_result"
    }
   ],
   "source": [
    "# Create Collection in DB\n",
    "courses_collection = db.courses\n",
    "#insert courses list into DB\n",
    "courses_collection.insert_many(list_of_udemy_courses)\n",
    "courses_collection.insert_many(list_of_udacity_courses)"
   ]
  },
  {
   "cell_type": "markdown",
   "id": "c395e10e-1642-4447-92ac-662b7534f2e5",
   "metadata": {},
   "source": [
    "### Get all courses after concatenation in database"
   ]
  },
  {
   "cell_type": "code",
   "execution_count": 44,
   "id": "d1ad7e16-12a4-4846-b8ee-4358f62f7fb6",
   "metadata": {},
   "outputs": [],
   "source": [
    "all_courses = db[\"courses\"]"
   ]
  },
  {
   "cell_type": "code",
   "execution_count": 45,
   "id": "68ad70c7-5714-41e4-98cb-f6bf4b1278e5",
   "metadata": {
    "tags": []
   },
   "outputs": [],
   "source": [
    "Concat_courses = list(all_courses.find({}))"
   ]
  },
  {
   "cell_type": "markdown",
   "id": "c0bbabd6-db6b-400d-9acf-4c26119323b6",
   "metadata": {},
   "source": [
    "### Store List of Courses in DataFrame to work on data in seprated file"
   ]
  },
  {
   "cell_type": "code",
   "execution_count": 46,
   "id": "853f190d-cb27-4bd0-a052-ad7851e7ca18",
   "metadata": {},
   "outputs": [],
   "source": [
    "import pandas as pd"
   ]
  },
  {
   "cell_type": "code",
   "execution_count": 47,
   "id": "4468c4c6-2fe4-4121-bd56-d644c85f519b",
   "metadata": {},
   "outputs": [],
   "source": [
    "Courses_df = pd.DataFrame(Concat_courses)"
   ]
  },
  {
   "cell_type": "code",
   "execution_count": 48,
   "id": "8d542b2c-9396-4f7b-8cf3-52f36fff8da0",
   "metadata": {},
   "outputs": [],
   "source": [
    "Courses_df.to_csv(\"all_courses.csv\")"
   ]
  }
 ],
 "metadata": {
  "kernelspec": {
   "display_name": "Python 3 (ipykernel)",
   "language": "python",
   "name": "python3"
  },
  "language_info": {
   "codemirror_mode": {
    "name": "ipython",
    "version": 3
   },
   "file_extension": ".py",
   "mimetype": "text/x-python",
   "name": "python",
   "nbconvert_exporter": "python",
   "pygments_lexer": "ipython3",
   "version": "3.8.10"
  }
 },
 "nbformat": 4,
 "nbformat_minor": 5
}
